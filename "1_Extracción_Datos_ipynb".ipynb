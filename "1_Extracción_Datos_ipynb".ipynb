{
  "nbformat": 4,
  "nbformat_minor": 0,
  "metadata": {
    "colab": {
      "provenance": [],
      "authorship_tag": "ABX9TyNW/o4dg78AocB3qIvsxvtt",
      "include_colab_link": true
    },
    "kernelspec": {
      "name": "python3",
      "display_name": "Python 3"
    },
    "language_info": {
      "name": "python"
    }
  },
  "cells": [
    {
      "cell_type": "markdown",
      "metadata": {
        "id": "view-in-github",
        "colab_type": "text"
      },
      "source": [
        "<a href=\"https://colab.research.google.com/github/Whiteomi/Extracci-n-de-Datos-/blob/main/%221_Extracci%C3%B3n_Datos_ipynb%22.ipynb\" target=\"_parent\"><img src=\"https://colab.research.google.com/assets/colab-badge.svg\" alt=\"Open In Colab\"/></a>"
      ]
    },
    {
      "cell_type": "code",
      "execution_count": 1,
      "metadata": {
        "id": "YGnKrdyUFHZp"
      },
      "outputs": [],
      "source": [
        "#Importamos librerias requeridas\n",
        "import pandas as pd \n",
        "import numpy as np \n",
        "import matplotlib.pyplot as  plt\n",
        "import seaborn as sns\n",
        "import io "
      ]
    },
    {
      "cell_type": "code",
      "source": [
        "#Cargar archivo csv desde seaborn\n",
        "from google.colab import files \n",
        "files.upload()"
      ],
      "metadata": {
        "id": "m1KoEMpZFZxS"
      },
      "execution_count": null,
      "outputs": []
    },
    {
      "cell_type": "code",
      "source": [
        "#Convertir en dataframe \n",
        "df= pd.read_csv(\"CountryTable.csv\")\n",
        "df"
      ],
      "metadata": {
        "id": "KPUiSLJDFsUa"
      },
      "execution_count": null,
      "outputs": []
    },
    {
      "cell_type": "code",
      "source": [
        "#Imprimimos las primras filas o registros del Dataframe \n",
        "df.head(5)"
      ],
      "metadata": {
        "id": "w6gStx0pGaEK"
      },
      "execution_count": null,
      "outputs": []
    },
    {
      "cell_type": "code",
      "source": [
        "#Filtro por objeto \n",
        "filtro1a=df[df[\"continent\"] ==\"Asia\"]\n",
        "filtro1a"
      ],
      "metadata": {
        "id": "SCmgVYicGaKB"
      },
      "execution_count": null,
      "outputs": []
    },
    {
      "cell_type": "code",
      "source": [
        "#Filtro por objeto \n",
        "filtro1b=df[df[\"region\"] ==\"Middle East\"]\n",
        "filtro1b"
      ],
      "metadata": {
        "id": "9_OlVEDrHRak"
      },
      "execution_count": null,
      "outputs": []
    },
    {
      "cell_type": "code",
      "source": [
        "#Filtro por filas \n",
        "filtro2a= df.iloc[0:99,: ]\n",
        "#filtro2=df.iloc[[1000, 2000, 3000], :] #filas no consecutivas \n",
        "filtro2a "
      ],
      "metadata": {
        "id": "uI8OdJzrH3f2"
      },
      "execution_count": null,
      "outputs": []
    },
    {
      "cell_type": "code",
      "source": [
        "#Filtro por filas \n",
        "#filtro2a= df.iloc[0:99,: ]\n",
        "filtro2b=df.iloc[[50, 100, 150], :] #filas no consecutivas \n",
        "filtro2b "
      ],
      "metadata": {
        "id": "0ScqnZlgIGIZ"
      },
      "execution_count": null,
      "outputs": []
    },
    {
      "cell_type": "code",
      "source": [
        "#Filtro por columnas \n",
        "filtro3a=df.iloc[ : , 4:6]\n",
        "#filtro3=df.iloc[ : , [1,4,6]] #columnas no consecutivas \n",
        "filtro3a"
      ],
      "metadata": {
        "id": "LjNoga0aIrFg"
      },
      "execution_count": null,
      "outputs": []
    },
    {
      "cell_type": "code",
      "source": [
        "#Filtro por columnas \n",
        "#filtro3a=df.iloc[ : , 4:6]\n",
        "filtro3b=df.iloc[ : , [1,4,6]] #columnas no consecutivas \n",
        "filtro3b"
      ],
      "metadata": {
        "id": "AyKu6wIWJBMT"
      },
      "execution_count": null,
      "outputs": []
    },
    {
      "cell_type": "code",
      "source": [
        "#Filtro por columnas y por filas \n",
        "filtro_mixa=df.iloc[ [10,20,50] , 2:5]\n",
        "#filtro3=df.iloc[ : , [1,4,6]] #columnas no consecutivas \n",
        "filtro_mixa"
      ],
      "metadata": {
        "id": "D-X5-NcCJQ_F"
      },
      "execution_count": null,
      "outputs": []
    },
    {
      "cell_type": "code",
      "source": [
        "#Filtro por columnas y por filas \n",
        "#filtro_mixa=df.iloc[ [10,20,50] , 2:5]\n",
        "filtro_mixb=df.iloc[ : , [1,4,6]] #columnas no consecutivas \n",
        "filtro_mixb"
      ],
      "metadata": {
        "id": "m7ee-PELJa-S"
      },
      "execution_count": null,
      "outputs": []
    },
    {
      "cell_type": "code",
      "source": [
        "#Filtro de filas vs columnas \n",
        "#Paso 1: Leemos el contenido del archivo \n",
        "from google.colab import files \n",
        "uploaded=files.upload()\n",
        "df = pd.read_csv(io.BytesIO(uploaded['CountryTable.csv']),index_col=2)\n",
        "df"
      ],
      "metadata": {
        "id": "YRSz1mk5JjC_"
      },
      "execution_count": null,
      "outputs": []
    },
    {
      "cell_type": "code",
      "source": [
        "#Paso 2: Aplicamos filtro de filas vs columnas \n",
        "filtro5a=df.loc[[\"Europe\",\"Africa\",\"Asia\",], [\"life_expectancy\"]]\n",
        "filtro5a "
      ],
      "metadata": {
        "id": "irop3hn0J38t"
      },
      "execution_count": null,
      "outputs": []
    },
    {
      "cell_type": "code",
      "source": [
        "#Paso 2: Aplicamos filtro de filas vs columnas \n",
        "filtro5b=df.loc[[\"North America\",\"Europe\",\"Africa\",], [\"population\"]]\n",
        "filtro5b "
      ],
      "metadata": {
        "id": "Te7v_b7bKtcV"
      },
      "execution_count": null,
      "outputs": []
    },
    {
      "cell_type": "code",
      "source": [
        "#Filtro por cabecera \n",
        "filtro6a=df.head(3)\n",
        "filtro6a"
      ],
      "metadata": {
        "id": "fa0pUzAjLRH8"
      },
      "execution_count": null,
      "outputs": []
    },
    {
      "cell_type": "code",
      "source": [
        "#Filtro por cabecera \n",
        "filtro6b=df.head(10)\n",
        "filtro6b"
      ],
      "metadata": {
        "id": "30PrSrpPL5vG"
      },
      "execution_count": null,
      "outputs": []
    },
    {
      "cell_type": "code",
      "source": [
        "#Filtro por comparacion \n",
        "filtro7a=df[df[\"gnp\"] > 3000]\n",
        "filtro7a"
      ],
      "metadata": {
        "id": "LD0G3xLIMDOf"
      },
      "execution_count": null,
      "outputs": []
    },
    {
      "cell_type": "code",
      "source": [
        "#Filtro por comparacion \n",
        "filtro7a=df[df[\"surface_area\"] > 500000]\n",
        "filtro7a"
      ],
      "metadata": {
        "id": "KuvS2H2PMgUC"
      },
      "execution_count": null,
      "outputs": []
    },
    {
      "cell_type": "code",
      "source": [
        "#Filtro Y \n",
        "filtro8a=df[(df[\"surface_area\"] > 10000) & (df[\"region\"] ==\"Caribbean\")]\n",
        "filtro8a"
      ],
      "metadata": {
        "id": "WYjgQXIvM2B6"
      },
      "execution_count": null,
      "outputs": []
    },
    {
      "cell_type": "code",
      "source": [
        "#Filtro Y \n",
        "filtro8b=df[(df[\"population\"] > 100000) & (df[\"continent\"] ==\"Asia\")]\n",
        "filtro8b"
      ],
      "metadata": {
        "id": "rZhpKgvUNrJ0"
      },
      "execution_count": null,
      "outputs": []
    },
    {
      "cell_type": "code",
      "source": [
        "#Filtro o \n",
        "filtro9a=df[(df[\"capital\"] > 100) | (df[\"surface_area\"] > 100000)]\n",
        "filtro9a"
      ],
      "metadata": {
        "id": "2P3PJW2jOyQV"
      },
      "execution_count": null,
      "outputs": []
    },
    {
      "cell_type": "code",
      "source": [
        "#Filtro o \n",
        "filtro9b=df[(df[\"population\"] > 200000) | (df[\"gnp\"] > 6000)]\n",
        "filtro9b"
      ],
      "metadata": {
        "id": "7WZmoGKHPc8Z"
      },
      "execution_count": null,
      "outputs": []
    },
    {
      "cell_type": "code",
      "source": [
        "#Filtro not \n",
        "filtro10a=df[~(df[\"capital\"] >= 700) & ~(df[\"continent\"] == \"Asia\")]\n",
        "filtro10a"
      ],
      "metadata": {
        "id": "POoK6sOvP06K"
      },
      "execution_count": null,
      "outputs": []
    },
    {
      "cell_type": "code",
      "source": [
        "#Filtro not \n",
        "filtro10b=df[~(df[\"life_expectancy\"] >= 50) & ~(df[\"region\"] == \"Africa\")]\n",
        "filtro10b"
      ],
      "metadata": {
        "id": "OQFy-x1MQMQ9"
      },
      "execution_count": null,
      "outputs": []
    },
    {
      "cell_type": "code",
      "source": [
        "#Convertir archivo filtrado CSV\n",
        "filtro1a.to_csv(\"filtro1a.csv\")"
      ],
      "metadata": {
        "id": "rRi8Q3HQQlj6"
      },
      "execution_count": 43,
      "outputs": []
    },
    {
      "cell_type": "code",
      "source": [
        "#Descargar archivo filtrado en csv \n",
        "from google.colab import files \n",
        "\n",
        "files.download(\"filtro1a.csv\")"
      ],
      "metadata": {
        "colab": {
          "base_uri": "https://localhost:8080/",
          "height": 17
        },
        "id": "qJGjoNrXQluf",
        "outputId": "25890e13-ee34-47c0-89dd-28c9acc4fdd1"
      },
      "execution_count": 44,
      "outputs": [
        {
          "output_type": "display_data",
          "data": {
            "text/plain": [
              "<IPython.core.display.Javascript object>"
            ],
            "application/javascript": [
              "\n",
              "    async function download(id, filename, size) {\n",
              "      if (!google.colab.kernel.accessAllowed) {\n",
              "        return;\n",
              "      }\n",
              "      const div = document.createElement('div');\n",
              "      const label = document.createElement('label');\n",
              "      label.textContent = `Downloading \"${filename}\": `;\n",
              "      div.appendChild(label);\n",
              "      const progress = document.createElement('progress');\n",
              "      progress.max = size;\n",
              "      div.appendChild(progress);\n",
              "      document.body.appendChild(div);\n",
              "\n",
              "      const buffers = [];\n",
              "      let downloaded = 0;\n",
              "\n",
              "      const channel = await google.colab.kernel.comms.open(id);\n",
              "      // Send a message to notify the kernel that we're ready.\n",
              "      channel.send({})\n",
              "\n",
              "      for await (const message of channel.messages) {\n",
              "        // Send a message to notify the kernel that we're ready.\n",
              "        channel.send({})\n",
              "        if (message.buffers) {\n",
              "          for (const buffer of message.buffers) {\n",
              "            buffers.push(buffer);\n",
              "            downloaded += buffer.byteLength;\n",
              "            progress.value = downloaded;\n",
              "          }\n",
              "        }\n",
              "      }\n",
              "      const blob = new Blob(buffers, {type: 'application/binary'});\n",
              "      const a = document.createElement('a');\n",
              "      a.href = window.URL.createObjectURL(blob);\n",
              "      a.download = filename;\n",
              "      div.appendChild(a);\n",
              "      a.click();\n",
              "      div.remove();\n",
              "    }\n",
              "  "
            ]
          },
          "metadata": {}
        },
        {
          "output_type": "display_data",
          "data": {
            "text/plain": [
              "<IPython.core.display.Javascript object>"
            ],
            "application/javascript": [
              "download(\"download_57c0fd87-31fa-4371-b77b-40f0436c49a4\", \"filtro1a.csv\", 7220)"
            ]
          },
          "metadata": {}
        }
      ]
    }
  ]
}